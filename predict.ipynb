{
  "cells": [
    {
      "cell_type": "code",
      "execution_count": 2,
      "metadata": {
        "colab": {
          "base_uri": "https://localhost:8080/"
        },
        "id": "1ZUKhPqEvNcE",
        "outputId": "ff6a8406-fd38-46ae-dfd9-cfab2719232f"
      },
      "outputs": [
        {
          "output_type": "stream",
          "name": "stdout",
          "text": [
            "Drive already mounted at /content/drive; to attempt to forcibly remount, call drive.mount(\"/content/drive\", force_remount=True).\n"
          ]
        }
      ],
      "source": [
        "import numpy as np\n",
        "from google.colab import drive\n",
        "import scipy.sparse\n",
        "from sklearn import metrics\n",
        "import pandas as pd\n",
        "import torch\n",
        "import torch.nn as nn\n",
        "import torch.nn.functional as F\n",
        "import timeit\n",
        "import matplotlib.pyplot as plt\n",
        "pd.set_option('display.max_columns', 500)\n",
        "pd.set_option('display.max_rows', 500)\n",
        "\n",
        "drive.mount('/content/drive') #connect to your drive\n",
        "path = '/content/drive/My Drive/ML4fungen/COVID_single_cell/' #your path to the file"
      ]
    },
    {
      "cell_type": "code",
      "execution_count": 3,
      "metadata": {
        "id": "gZaFWi9ZoibR"
      },
      "outputs": [],
      "source": [
        "device = torch.device(\"cuda\" if torch.cuda.is_available() else \"cpu\")"
      ]
    },
    {
      "cell_type": "code",
      "execution_count": 4,
      "metadata": {
        "colab": {
          "base_uri": "https://localhost:8080/"
        },
        "id": "RPI-11CPzlrZ",
        "outputId": "a6880285-1a99-48d4-cc80-bff9a6867f32"
      },
      "outputs": [
        {
          "output_type": "execute_result",
          "data": {
            "text/plain": [
              "33"
            ]
          },
          "metadata": {},
          "execution_count": 4
        }
      ],
      "source": [
        "counts_origin = scipy.sparse.csr_matrix(scipy.sparse.load_npz(path+\"counts_sub1196.npz\"), dtype=np.int16)\n",
        "counts_origin = counts_origin.transpose()\n",
        "import gc\n",
        "gc.collect()"
      ]
    },
    {
      "cell_type": "code",
      "execution_count": 5,
      "metadata": {
        "id": "26V3pEvw_8g4"
      },
      "outputs": [],
      "source": [
        "counts = counts_origin.toarray()"
      ]
    },
    {
      "cell_type": "code",
      "execution_count": 6,
      "metadata": {
        "id": "6Zz3xARXJzAP"
      },
      "outputs": [],
      "source": [
        "cell_to_sample = pd.read_csv(path+\"GSE158055_cell_annotation.csv.gz\", sep=',')"
      ]
    },
    {
      "cell_type": "code",
      "execution_count": 7,
      "metadata": {
        "colab": {
          "base_uri": "https://localhost:8080/"
        },
        "id": "tA1g43y5POOO",
        "outputId": "846aaac8-f0ff-4bc1-d19f-f296b3557ebe"
      },
      "outputs": [
        {
          "output_type": "execute_result",
          "data": {
            "text/plain": [
              "(1462702, 4)"
            ]
          },
          "metadata": {},
          "execution_count": 7
        }
      ],
      "source": [
        "cell_to_sample.shape"
      ]
    },
    {
      "cell_type": "code",
      "execution_count": 8,
      "metadata": {
        "colab": {
          "base_uri": "https://localhost:8080/",
          "height": 363
        },
        "id": "CPjmW3-rLzIg",
        "outputId": "91ea12a6-f603-48ea-c50b-bb889759faa6"
      },
      "outputs": [
        {
          "output_type": "execute_result",
          "data": {
            "text/plain": [
              "             cellName  sampleID               celltype majorType\n",
              "0  AACAGGGGTCGGATTT-0  S-S070-1      Mono_c1-CD14-CCL3      Mono\n",
              "1  AACCAACGTCCGAAAG-0  S-S070-1       B_c02-MS4A1-CD27         B\n",
              "2  AACCTTTGTAGCACGA-0  S-S070-1            B_c01-TCL1A         B\n",
              "3  AAGCATCTCTATCGCC-0  S-S070-1  Mono_c2-CD14-HLA-DPB1      Mono\n",
              "4  AATCACGGTCATAAAG-0  S-S070-1            B_c01-TCL1A         B\n",
              "5  AATCACGGTGGTTCTA-0  S-S070-1       B_c02-MS4A1-CD27         B\n",
              "6  AATGAAGCAACTGGTT-0  S-S070-1        Macro_c2-CCL3L1     Macro\n",
              "7  AATGAAGCACCAGCGT-0  S-S070-1            B_c01-TCL1A         B\n",
              "8  AATGCCATCACCTCGT-0  S-S070-1        T_CD4_c03-ITGA4       CD4\n",
              "9  AATGGCTCAAGGCTTT-0  S-S070-1      Mono_c1-CD14-CCL3      Mono"
            ],
            "text/html": [
              "\n",
              "  <div id=\"df-003a550f-7b61-4a49-a980-328336b0a6b0\">\n",
              "    <div class=\"colab-df-container\">\n",
              "      <div>\n",
              "<style scoped>\n",
              "    .dataframe tbody tr th:only-of-type {\n",
              "        vertical-align: middle;\n",
              "    }\n",
              "\n",
              "    .dataframe tbody tr th {\n",
              "        vertical-align: top;\n",
              "    }\n",
              "\n",
              "    .dataframe thead th {\n",
              "        text-align: right;\n",
              "    }\n",
              "</style>\n",
              "<table border=\"1\" class=\"dataframe\">\n",
              "  <thead>\n",
              "    <tr style=\"text-align: right;\">\n",
              "      <th></th>\n",
              "      <th>cellName</th>\n",
              "      <th>sampleID</th>\n",
              "      <th>celltype</th>\n",
              "      <th>majorType</th>\n",
              "    </tr>\n",
              "  </thead>\n",
              "  <tbody>\n",
              "    <tr>\n",
              "      <th>0</th>\n",
              "      <td>AACAGGGGTCGGATTT-0</td>\n",
              "      <td>S-S070-1</td>\n",
              "      <td>Mono_c1-CD14-CCL3</td>\n",
              "      <td>Mono</td>\n",
              "    </tr>\n",
              "    <tr>\n",
              "      <th>1</th>\n",
              "      <td>AACCAACGTCCGAAAG-0</td>\n",
              "      <td>S-S070-1</td>\n",
              "      <td>B_c02-MS4A1-CD27</td>\n",
              "      <td>B</td>\n",
              "    </tr>\n",
              "    <tr>\n",
              "      <th>2</th>\n",
              "      <td>AACCTTTGTAGCACGA-0</td>\n",
              "      <td>S-S070-1</td>\n",
              "      <td>B_c01-TCL1A</td>\n",
              "      <td>B</td>\n",
              "    </tr>\n",
              "    <tr>\n",
              "      <th>3</th>\n",
              "      <td>AAGCATCTCTATCGCC-0</td>\n",
              "      <td>S-S070-1</td>\n",
              "      <td>Mono_c2-CD14-HLA-DPB1</td>\n",
              "      <td>Mono</td>\n",
              "    </tr>\n",
              "    <tr>\n",
              "      <th>4</th>\n",
              "      <td>AATCACGGTCATAAAG-0</td>\n",
              "      <td>S-S070-1</td>\n",
              "      <td>B_c01-TCL1A</td>\n",
              "      <td>B</td>\n",
              "    </tr>\n",
              "    <tr>\n",
              "      <th>5</th>\n",
              "      <td>AATCACGGTGGTTCTA-0</td>\n",
              "      <td>S-S070-1</td>\n",
              "      <td>B_c02-MS4A1-CD27</td>\n",
              "      <td>B</td>\n",
              "    </tr>\n",
              "    <tr>\n",
              "      <th>6</th>\n",
              "      <td>AATGAAGCAACTGGTT-0</td>\n",
              "      <td>S-S070-1</td>\n",
              "      <td>Macro_c2-CCL3L1</td>\n",
              "      <td>Macro</td>\n",
              "    </tr>\n",
              "    <tr>\n",
              "      <th>7</th>\n",
              "      <td>AATGAAGCACCAGCGT-0</td>\n",
              "      <td>S-S070-1</td>\n",
              "      <td>B_c01-TCL1A</td>\n",
              "      <td>B</td>\n",
              "    </tr>\n",
              "    <tr>\n",
              "      <th>8</th>\n",
              "      <td>AATGCCATCACCTCGT-0</td>\n",
              "      <td>S-S070-1</td>\n",
              "      <td>T_CD4_c03-ITGA4</td>\n",
              "      <td>CD4</td>\n",
              "    </tr>\n",
              "    <tr>\n",
              "      <th>9</th>\n",
              "      <td>AATGGCTCAAGGCTTT-0</td>\n",
              "      <td>S-S070-1</td>\n",
              "      <td>Mono_c1-CD14-CCL3</td>\n",
              "      <td>Mono</td>\n",
              "    </tr>\n",
              "  </tbody>\n",
              "</table>\n",
              "</div>\n",
              "      <button class=\"colab-df-convert\" onclick=\"convertToInteractive('df-003a550f-7b61-4a49-a980-328336b0a6b0')\"\n",
              "              title=\"Convert this dataframe to an interactive table.\"\n",
              "              style=\"display:none;\">\n",
              "        \n",
              "  <svg xmlns=\"http://www.w3.org/2000/svg\" height=\"24px\"viewBox=\"0 0 24 24\"\n",
              "       width=\"24px\">\n",
              "    <path d=\"M0 0h24v24H0V0z\" fill=\"none\"/>\n",
              "    <path d=\"M18.56 5.44l.94 2.06.94-2.06 2.06-.94-2.06-.94-.94-2.06-.94 2.06-2.06.94zm-11 1L8.5 8.5l.94-2.06 2.06-.94-2.06-.94L8.5 2.5l-.94 2.06-2.06.94zm10 10l.94 2.06.94-2.06 2.06-.94-2.06-.94-.94-2.06-.94 2.06-2.06.94z\"/><path d=\"M17.41 7.96l-1.37-1.37c-.4-.4-.92-.59-1.43-.59-.52 0-1.04.2-1.43.59L10.3 9.45l-7.72 7.72c-.78.78-.78 2.05 0 2.83L4 21.41c.39.39.9.59 1.41.59.51 0 1.02-.2 1.41-.59l7.78-7.78 2.81-2.81c.8-.78.8-2.07 0-2.86zM5.41 20L4 18.59l7.72-7.72 1.47 1.35L5.41 20z\"/>\n",
              "  </svg>\n",
              "      </button>\n",
              "      \n",
              "  <style>\n",
              "    .colab-df-container {\n",
              "      display:flex;\n",
              "      flex-wrap:wrap;\n",
              "      gap: 12px;\n",
              "    }\n",
              "\n",
              "    .colab-df-convert {\n",
              "      background-color: #E8F0FE;\n",
              "      border: none;\n",
              "      border-radius: 50%;\n",
              "      cursor: pointer;\n",
              "      display: none;\n",
              "      fill: #1967D2;\n",
              "      height: 32px;\n",
              "      padding: 0 0 0 0;\n",
              "      width: 32px;\n",
              "    }\n",
              "\n",
              "    .colab-df-convert:hover {\n",
              "      background-color: #E2EBFA;\n",
              "      box-shadow: 0px 1px 2px rgba(60, 64, 67, 0.3), 0px 1px 3px 1px rgba(60, 64, 67, 0.15);\n",
              "      fill: #174EA6;\n",
              "    }\n",
              "\n",
              "    [theme=dark] .colab-df-convert {\n",
              "      background-color: #3B4455;\n",
              "      fill: #D2E3FC;\n",
              "    }\n",
              "\n",
              "    [theme=dark] .colab-df-convert:hover {\n",
              "      background-color: #434B5C;\n",
              "      box-shadow: 0px 1px 3px 1px rgba(0, 0, 0, 0.15);\n",
              "      filter: drop-shadow(0px 1px 2px rgba(0, 0, 0, 0.3));\n",
              "      fill: #FFFFFF;\n",
              "    }\n",
              "  </style>\n",
              "\n",
              "      <script>\n",
              "        const buttonEl =\n",
              "          document.querySelector('#df-003a550f-7b61-4a49-a980-328336b0a6b0 button.colab-df-convert');\n",
              "        buttonEl.style.display =\n",
              "          google.colab.kernel.accessAllowed ? 'block' : 'none';\n",
              "\n",
              "        async function convertToInteractive(key) {\n",
              "          const element = document.querySelector('#df-003a550f-7b61-4a49-a980-328336b0a6b0');\n",
              "          const dataTable =\n",
              "            await google.colab.kernel.invokeFunction('convertToInteractive',\n",
              "                                                     [key], {});\n",
              "          if (!dataTable) return;\n",
              "\n",
              "          const docLinkHtml = 'Like what you see? Visit the ' +\n",
              "            '<a target=\"_blank\" href=https://colab.research.google.com/notebooks/data_table.ipynb>data table notebook</a>'\n",
              "            + ' to learn more about interactive tables.';\n",
              "          element.innerHTML = '';\n",
              "          dataTable['output_type'] = 'display_data';\n",
              "          await google.colab.output.renderOutput(dataTable, element);\n",
              "          const docLink = document.createElement('div');\n",
              "          docLink.innerHTML = docLinkHtml;\n",
              "          element.appendChild(docLink);\n",
              "        }\n",
              "      </script>\n",
              "    </div>\n",
              "  </div>\n",
              "  "
            ]
          },
          "metadata": {},
          "execution_count": 8
        }
      ],
      "source": [
        "cell_to_sample.iloc[:10,]"
      ]
    },
    {
      "cell_type": "code",
      "execution_count": 9,
      "metadata": {
        "id": "PJ3zcMrAXvfK"
      },
      "outputs": [],
      "source": [
        "cell_to_sample['row_num'] = np.arange(len(cell_to_sample))"
      ]
    },
    {
      "cell_type": "code",
      "execution_count": 10,
      "metadata": {
        "id": "NLuMzdNezS7u"
      },
      "outputs": [],
      "source": [
        "sample_to_cell_list = cell_to_sample.groupby('sampleID')['row_num'].apply(np.array).reset_index(name=\"cell_list\")"
      ]
    },
    {
      "cell_type": "code",
      "execution_count": 11,
      "metadata": {
        "id": "zZSeHTBtMHe5"
      },
      "outputs": [],
      "source": [
        "sample_data = pd.read_csv(path+\"GSE158055_sample_metadata.tsv\", sep='\\t')"
      ]
    },
    {
      "cell_type": "code",
      "execution_count": 12,
      "metadata": {
        "id": "-yPE_nSCy3sq"
      },
      "outputs": [],
      "source": [
        "sample_data['row_num'] = np.arange(len(sample_data))"
      ]
    },
    {
      "cell_type": "code",
      "execution_count": 13,
      "metadata": {
        "id": "xJ9ZUoCK_gLO"
      },
      "outputs": [],
      "source": [
        "classes = []\n",
        "for _, row in sample_to_cell_list.iterrows():\n",
        "  severity = sample_data.loc[sample_data['Sample name'] == row['sampleID']]['characteristics: CoVID-19 severity'].item()\n",
        "  if severity == 'control':\n",
        "    classes.append(0)\n",
        "  elif severity == 'mild/moderate':\n",
        "    classes.append(1)\n",
        "  else:\n",
        "    classes.append(2)"
      ]
    },
    {
      "cell_type": "code",
      "source": [
        "classes = np.array(classes)"
      ],
      "metadata": {
        "id": "rFLEUiy3spEv"
      },
      "execution_count": 14,
      "outputs": []
    },
    {
      "cell_type": "code",
      "execution_count": 15,
      "metadata": {
        "id": "MaD_S-bMBTcn"
      },
      "outputs": [],
      "source": [
        "sample_to_cell_list['classes'] = classes"
      ]
    },
    {
      "cell_type": "code",
      "execution_count": 16,
      "metadata": {
        "id": "zwjnihK6v_z1"
      },
      "outputs": [],
      "source": [
        "sample_to_cell_list['row_num'] = np.arange(len(sample_to_cell_list))"
      ]
    },
    {
      "cell_type": "code",
      "execution_count": 17,
      "metadata": {
        "id": "i3JyOxC4vu54"
      },
      "outputs": [],
      "source": [
        "phenotypes = sample_to_cell_list.groupby('classes')['row_num'].apply(np.array).reset_index(name=\"sample_list\")"
      ]
    },
    {
      "cell_type": "code",
      "execution_count": 18,
      "metadata": {
        "colab": {
          "base_uri": "https://localhost:8080/",
          "height": 143
        },
        "id": "5pcleTj4weCg",
        "outputId": "e92699e3-109c-44b5-821c-984f2cd4850c"
      },
      "outputs": [
        {
          "output_type": "execute_result",
          "data": {
            "text/plain": [
              "   classes                                        sample_list\n",
              "0        0  [0, 1, 2, 3, 4, 5, 6, 7, 8, 9, 10, 11, 12, 13,...\n",
              "1        1  [28, 29, 30, 31, 32, 33, 34, 35, 36, 37, 38, 3...\n",
              "2        2  [150, 151, 152, 153, 154, 155, 156, 157, 158, ..."
            ],
            "text/html": [
              "\n",
              "  <div id=\"df-e54eeaa1-da44-408a-88d6-14908f0ef07e\">\n",
              "    <div class=\"colab-df-container\">\n",
              "      <div>\n",
              "<style scoped>\n",
              "    .dataframe tbody tr th:only-of-type {\n",
              "        vertical-align: middle;\n",
              "    }\n",
              "\n",
              "    .dataframe tbody tr th {\n",
              "        vertical-align: top;\n",
              "    }\n",
              "\n",
              "    .dataframe thead th {\n",
              "        text-align: right;\n",
              "    }\n",
              "</style>\n",
              "<table border=\"1\" class=\"dataframe\">\n",
              "  <thead>\n",
              "    <tr style=\"text-align: right;\">\n",
              "      <th></th>\n",
              "      <th>classes</th>\n",
              "      <th>sample_list</th>\n",
              "    </tr>\n",
              "  </thead>\n",
              "  <tbody>\n",
              "    <tr>\n",
              "      <th>0</th>\n",
              "      <td>0</td>\n",
              "      <td>[0, 1, 2, 3, 4, 5, 6, 7, 8, 9, 10, 11, 12, 13,...</td>\n",
              "    </tr>\n",
              "    <tr>\n",
              "      <th>1</th>\n",
              "      <td>1</td>\n",
              "      <td>[28, 29, 30, 31, 32, 33, 34, 35, 36, 37, 38, 3...</td>\n",
              "    </tr>\n",
              "    <tr>\n",
              "      <th>2</th>\n",
              "      <td>2</td>\n",
              "      <td>[150, 151, 152, 153, 154, 155, 156, 157, 158, ...</td>\n",
              "    </tr>\n",
              "  </tbody>\n",
              "</table>\n",
              "</div>\n",
              "      <button class=\"colab-df-convert\" onclick=\"convertToInteractive('df-e54eeaa1-da44-408a-88d6-14908f0ef07e')\"\n",
              "              title=\"Convert this dataframe to an interactive table.\"\n",
              "              style=\"display:none;\">\n",
              "        \n",
              "  <svg xmlns=\"http://www.w3.org/2000/svg\" height=\"24px\"viewBox=\"0 0 24 24\"\n",
              "       width=\"24px\">\n",
              "    <path d=\"M0 0h24v24H0V0z\" fill=\"none\"/>\n",
              "    <path d=\"M18.56 5.44l.94 2.06.94-2.06 2.06-.94-2.06-.94-.94-2.06-.94 2.06-2.06.94zm-11 1L8.5 8.5l.94-2.06 2.06-.94-2.06-.94L8.5 2.5l-.94 2.06-2.06.94zm10 10l.94 2.06.94-2.06 2.06-.94-2.06-.94-.94-2.06-.94 2.06-2.06.94z\"/><path d=\"M17.41 7.96l-1.37-1.37c-.4-.4-.92-.59-1.43-.59-.52 0-1.04.2-1.43.59L10.3 9.45l-7.72 7.72c-.78.78-.78 2.05 0 2.83L4 21.41c.39.39.9.59 1.41.59.51 0 1.02-.2 1.41-.59l7.78-7.78 2.81-2.81c.8-.78.8-2.07 0-2.86zM5.41 20L4 18.59l7.72-7.72 1.47 1.35L5.41 20z\"/>\n",
              "  </svg>\n",
              "      </button>\n",
              "      \n",
              "  <style>\n",
              "    .colab-df-container {\n",
              "      display:flex;\n",
              "      flex-wrap:wrap;\n",
              "      gap: 12px;\n",
              "    }\n",
              "\n",
              "    .colab-df-convert {\n",
              "      background-color: #E8F0FE;\n",
              "      border: none;\n",
              "      border-radius: 50%;\n",
              "      cursor: pointer;\n",
              "      display: none;\n",
              "      fill: #1967D2;\n",
              "      height: 32px;\n",
              "      padding: 0 0 0 0;\n",
              "      width: 32px;\n",
              "    }\n",
              "\n",
              "    .colab-df-convert:hover {\n",
              "      background-color: #E2EBFA;\n",
              "      box-shadow: 0px 1px 2px rgba(60, 64, 67, 0.3), 0px 1px 3px 1px rgba(60, 64, 67, 0.15);\n",
              "      fill: #174EA6;\n",
              "    }\n",
              "\n",
              "    [theme=dark] .colab-df-convert {\n",
              "      background-color: #3B4455;\n",
              "      fill: #D2E3FC;\n",
              "    }\n",
              "\n",
              "    [theme=dark] .colab-df-convert:hover {\n",
              "      background-color: #434B5C;\n",
              "      box-shadow: 0px 1px 3px 1px rgba(0, 0, 0, 0.15);\n",
              "      filter: drop-shadow(0px 1px 2px rgba(0, 0, 0, 0.3));\n",
              "      fill: #FFFFFF;\n",
              "    }\n",
              "  </style>\n",
              "\n",
              "      <script>\n",
              "        const buttonEl =\n",
              "          document.querySelector('#df-e54eeaa1-da44-408a-88d6-14908f0ef07e button.colab-df-convert');\n",
              "        buttonEl.style.display =\n",
              "          google.colab.kernel.accessAllowed ? 'block' : 'none';\n",
              "\n",
              "        async function convertToInteractive(key) {\n",
              "          const element = document.querySelector('#df-e54eeaa1-da44-408a-88d6-14908f0ef07e');\n",
              "          const dataTable =\n",
              "            await google.colab.kernel.invokeFunction('convertToInteractive',\n",
              "                                                     [key], {});\n",
              "          if (!dataTable) return;\n",
              "\n",
              "          const docLinkHtml = 'Like what you see? Visit the ' +\n",
              "            '<a target=\"_blank\" href=https://colab.research.google.com/notebooks/data_table.ipynb>data table notebook</a>'\n",
              "            + ' to learn more about interactive tables.';\n",
              "          element.innerHTML = '';\n",
              "          dataTable['output_type'] = 'display_data';\n",
              "          await google.colab.output.renderOutput(dataTable, element);\n",
              "          const docLink = document.createElement('div');\n",
              "          docLink.innerHTML = docLinkHtml;\n",
              "          element.appendChild(docLink);\n",
              "        }\n",
              "      </script>\n",
              "    </div>\n",
              "  </div>\n",
              "  "
            ]
          },
          "metadata": {},
          "execution_count": 18
        }
      ],
      "source": [
        "phenotypes"
      ]
    },
    {
      "cell_type": "code",
      "execution_count": 19,
      "metadata": {
        "id": "bMP41qwjwaM6"
      },
      "outputs": [],
      "source": [
        "control_idx = phenotypes.loc[phenotypes['classes']==0]['sample_list'].item()"
      ]
    },
    {
      "cell_type": "code",
      "execution_count": 20,
      "metadata": {
        "id": "N--YECl6wp16"
      },
      "outputs": [],
      "source": [
        "mild_idx = phenotypes.loc[phenotypes['classes']==1]['sample_list'].item()"
      ]
    },
    {
      "cell_type": "code",
      "execution_count": 21,
      "metadata": {
        "id": "jhj8YnfRwsf0"
      },
      "outputs": [],
      "source": [
        "severe_idx = phenotypes.loc[phenotypes['classes']==2]['sample_list'].item()"
      ]
    },
    {
      "cell_type": "code",
      "execution_count": 22,
      "metadata": {
        "colab": {
          "base_uri": "https://localhost:8080/",
          "height": 363
        },
        "id": "m6cH1TuUIuNI",
        "outputId": "9bd2fa7b-9c31-4384-e343-b9c7c7d8620f"
      },
      "outputs": [
        {
          "output_type": "execute_result",
          "data": {
            "text/plain": [
              "  sampleID                                          cell_list  classes  \\\n",
              "0  S-HC001  [518643, 518644, 518645, 518646, 518647, 51864...        0   \n",
              "1  S-HC002  [527410, 527411, 527412, 527413, 527414, 52741...        0   \n",
              "2  S-HC003  [605145, 605146, 605147, 605148, 605149, 60515...        0   \n",
              "3  S-HC004  [610082, 610083, 610084, 610085, 610086, 61008...        0   \n",
              "4  S-HC005  [1168641, 1168642, 1168643, 1168644, 1168645, ...        0   \n",
              "5  S-HC006  [1177783, 1177784, 1177785, 1177786, 1177787, ...        0   \n",
              "6  S-HC007  [1183875, 1183876, 1183877, 1183878, 1183879, ...        0   \n",
              "7  S-HC008  [105060, 105061, 105062, 105063, 105064, 10506...        0   \n",
              "8  S-HC009  [108733, 108734, 108735, 108736, 108737, 10873...        0   \n",
              "9  S-HC010  [113113, 113114, 113115, 113116, 113117, 11311...        0   \n",
              "\n",
              "   row_num  \n",
              "0        0  \n",
              "1        1  \n",
              "2        2  \n",
              "3        3  \n",
              "4        4  \n",
              "5        5  \n",
              "6        6  \n",
              "7        7  \n",
              "8        8  \n",
              "9        9  "
            ],
            "text/html": [
              "\n",
              "  <div id=\"df-09f343f6-2245-4b1f-93c1-d883b20e7f28\">\n",
              "    <div class=\"colab-df-container\">\n",
              "      <div>\n",
              "<style scoped>\n",
              "    .dataframe tbody tr th:only-of-type {\n",
              "        vertical-align: middle;\n",
              "    }\n",
              "\n",
              "    .dataframe tbody tr th {\n",
              "        vertical-align: top;\n",
              "    }\n",
              "\n",
              "    .dataframe thead th {\n",
              "        text-align: right;\n",
              "    }\n",
              "</style>\n",
              "<table border=\"1\" class=\"dataframe\">\n",
              "  <thead>\n",
              "    <tr style=\"text-align: right;\">\n",
              "      <th></th>\n",
              "      <th>sampleID</th>\n",
              "      <th>cell_list</th>\n",
              "      <th>classes</th>\n",
              "      <th>row_num</th>\n",
              "    </tr>\n",
              "  </thead>\n",
              "  <tbody>\n",
              "    <tr>\n",
              "      <th>0</th>\n",
              "      <td>S-HC001</td>\n",
              "      <td>[518643, 518644, 518645, 518646, 518647, 51864...</td>\n",
              "      <td>0</td>\n",
              "      <td>0</td>\n",
              "    </tr>\n",
              "    <tr>\n",
              "      <th>1</th>\n",
              "      <td>S-HC002</td>\n",
              "      <td>[527410, 527411, 527412, 527413, 527414, 52741...</td>\n",
              "      <td>0</td>\n",
              "      <td>1</td>\n",
              "    </tr>\n",
              "    <tr>\n",
              "      <th>2</th>\n",
              "      <td>S-HC003</td>\n",
              "      <td>[605145, 605146, 605147, 605148, 605149, 60515...</td>\n",
              "      <td>0</td>\n",
              "      <td>2</td>\n",
              "    </tr>\n",
              "    <tr>\n",
              "      <th>3</th>\n",
              "      <td>S-HC004</td>\n",
              "      <td>[610082, 610083, 610084, 610085, 610086, 61008...</td>\n",
              "      <td>0</td>\n",
              "      <td>3</td>\n",
              "    </tr>\n",
              "    <tr>\n",
              "      <th>4</th>\n",
              "      <td>S-HC005</td>\n",
              "      <td>[1168641, 1168642, 1168643, 1168644, 1168645, ...</td>\n",
              "      <td>0</td>\n",
              "      <td>4</td>\n",
              "    </tr>\n",
              "    <tr>\n",
              "      <th>5</th>\n",
              "      <td>S-HC006</td>\n",
              "      <td>[1177783, 1177784, 1177785, 1177786, 1177787, ...</td>\n",
              "      <td>0</td>\n",
              "      <td>5</td>\n",
              "    </tr>\n",
              "    <tr>\n",
              "      <th>6</th>\n",
              "      <td>S-HC007</td>\n",
              "      <td>[1183875, 1183876, 1183877, 1183878, 1183879, ...</td>\n",
              "      <td>0</td>\n",
              "      <td>6</td>\n",
              "    </tr>\n",
              "    <tr>\n",
              "      <th>7</th>\n",
              "      <td>S-HC008</td>\n",
              "      <td>[105060, 105061, 105062, 105063, 105064, 10506...</td>\n",
              "      <td>0</td>\n",
              "      <td>7</td>\n",
              "    </tr>\n",
              "    <tr>\n",
              "      <th>8</th>\n",
              "      <td>S-HC009</td>\n",
              "      <td>[108733, 108734, 108735, 108736, 108737, 10873...</td>\n",
              "      <td>0</td>\n",
              "      <td>8</td>\n",
              "    </tr>\n",
              "    <tr>\n",
              "      <th>9</th>\n",
              "      <td>S-HC010</td>\n",
              "      <td>[113113, 113114, 113115, 113116, 113117, 11311...</td>\n",
              "      <td>0</td>\n",
              "      <td>9</td>\n",
              "    </tr>\n",
              "  </tbody>\n",
              "</table>\n",
              "</div>\n",
              "      <button class=\"colab-df-convert\" onclick=\"convertToInteractive('df-09f343f6-2245-4b1f-93c1-d883b20e7f28')\"\n",
              "              title=\"Convert this dataframe to an interactive table.\"\n",
              "              style=\"display:none;\">\n",
              "        \n",
              "  <svg xmlns=\"http://www.w3.org/2000/svg\" height=\"24px\"viewBox=\"0 0 24 24\"\n",
              "       width=\"24px\">\n",
              "    <path d=\"M0 0h24v24H0V0z\" fill=\"none\"/>\n",
              "    <path d=\"M18.56 5.44l.94 2.06.94-2.06 2.06-.94-2.06-.94-.94-2.06-.94 2.06-2.06.94zm-11 1L8.5 8.5l.94-2.06 2.06-.94-2.06-.94L8.5 2.5l-.94 2.06-2.06.94zm10 10l.94 2.06.94-2.06 2.06-.94-2.06-.94-.94-2.06-.94 2.06-2.06.94z\"/><path d=\"M17.41 7.96l-1.37-1.37c-.4-.4-.92-.59-1.43-.59-.52 0-1.04.2-1.43.59L10.3 9.45l-7.72 7.72c-.78.78-.78 2.05 0 2.83L4 21.41c.39.39.9.59 1.41.59.51 0 1.02-.2 1.41-.59l7.78-7.78 2.81-2.81c.8-.78.8-2.07 0-2.86zM5.41 20L4 18.59l7.72-7.72 1.47 1.35L5.41 20z\"/>\n",
              "  </svg>\n",
              "      </button>\n",
              "      \n",
              "  <style>\n",
              "    .colab-df-container {\n",
              "      display:flex;\n",
              "      flex-wrap:wrap;\n",
              "      gap: 12px;\n",
              "    }\n",
              "\n",
              "    .colab-df-convert {\n",
              "      background-color: #E8F0FE;\n",
              "      border: none;\n",
              "      border-radius: 50%;\n",
              "      cursor: pointer;\n",
              "      display: none;\n",
              "      fill: #1967D2;\n",
              "      height: 32px;\n",
              "      padding: 0 0 0 0;\n",
              "      width: 32px;\n",
              "    }\n",
              "\n",
              "    .colab-df-convert:hover {\n",
              "      background-color: #E2EBFA;\n",
              "      box-shadow: 0px 1px 2px rgba(60, 64, 67, 0.3), 0px 1px 3px 1px rgba(60, 64, 67, 0.15);\n",
              "      fill: #174EA6;\n",
              "    }\n",
              "\n",
              "    [theme=dark] .colab-df-convert {\n",
              "      background-color: #3B4455;\n",
              "      fill: #D2E3FC;\n",
              "    }\n",
              "\n",
              "    [theme=dark] .colab-df-convert:hover {\n",
              "      background-color: #434B5C;\n",
              "      box-shadow: 0px 1px 3px 1px rgba(0, 0, 0, 0.15);\n",
              "      filter: drop-shadow(0px 1px 2px rgba(0, 0, 0, 0.3));\n",
              "      fill: #FFFFFF;\n",
              "    }\n",
              "  </style>\n",
              "\n",
              "      <script>\n",
              "        const buttonEl =\n",
              "          document.querySelector('#df-09f343f6-2245-4b1f-93c1-d883b20e7f28 button.colab-df-convert');\n",
              "        buttonEl.style.display =\n",
              "          google.colab.kernel.accessAllowed ? 'block' : 'none';\n",
              "\n",
              "        async function convertToInteractive(key) {\n",
              "          const element = document.querySelector('#df-09f343f6-2245-4b1f-93c1-d883b20e7f28');\n",
              "          const dataTable =\n",
              "            await google.colab.kernel.invokeFunction('convertToInteractive',\n",
              "                                                     [key], {});\n",
              "          if (!dataTable) return;\n",
              "\n",
              "          const docLinkHtml = 'Like what you see? Visit the ' +\n",
              "            '<a target=\"_blank\" href=https://colab.research.google.com/notebooks/data_table.ipynb>data table notebook</a>'\n",
              "            + ' to learn more about interactive tables.';\n",
              "          element.innerHTML = '';\n",
              "          dataTable['output_type'] = 'display_data';\n",
              "          await google.colab.output.renderOutput(dataTable, element);\n",
              "          const docLink = document.createElement('div');\n",
              "          docLink.innerHTML = docLinkHtml;\n",
              "          element.appendChild(docLink);\n",
              "        }\n",
              "      </script>\n",
              "    </div>\n",
              "  </div>\n",
              "  "
            ]
          },
          "metadata": {},
          "execution_count": 22
        }
      ],
      "source": [
        "sample_to_cell_list[:10]"
      ]
    },
    {
      "cell_type": "code",
      "execution_count": 23,
      "metadata": {
        "id": "4VbLUL8SDZTY"
      },
      "outputs": [],
      "source": [
        "def generate_input(sample_to_cell_list, classes, counts, num_cells, num_subsets):\n",
        "  Xs = np.zeros((num_subsets, num_cells, counts.shape[1]))\n",
        "  Ys = np.zeros(num_subsets)\n",
        "  np.random.seed(123) # for reproducibility\n",
        "  set_indices = np.random.choice(sample_to_cell_list.shape[0], num_subsets, replace=True)\n",
        "  for i in range(num_subsets):\n",
        "    index = set_indices[i]\n",
        "    row = sample_to_cell_list.iloc[index]\n",
        "    indices = np.random.choice(len(row['cell_list']), num_cells, replace=True)\n",
        "    Xs[i] = counts[row['cell_list'][indices]]\n",
        "    Ys[i] = 0 if classes[index] == 0 else 1\n",
        "  return Xs, Ys"
      ]
    },
    {
      "cell_type": "code",
      "source": [
        "control_n = control_idx.shape[0]\n",
        "np.random.seed(1234)\n",
        "control_perm = np.random.permutation(control_idx)\n",
        "train_control_idx = control_perm[:int(np.ceil(0.8 * control_n))]\n",
        "val_control_idx = control_perm[int(np.ceil(0.8 * control_n)):int(np.ceil(0.9 * control_n))]\n",
        "test_control_idx = control_perm[int(np.ceil(0.9 * control_n)):]\n",
        "x_train_control, y_train_control = generate_input(sample_to_cell_list.iloc[train_control_idx], classes[train_control_idx], counts, 1024, 800)\n",
        "x_val_control, y_val_control = generate_input(sample_to_cell_list.iloc[val_control_idx], classes[val_control_idx], counts, 1024, 100)\n",
        "x_test_control, y_test_control = generate_input(sample_to_cell_list.iloc[test_control_idx], classes[test_control_idx], counts, 1024, 100)"
      ],
      "metadata": {
        "id": "18VEA90rlGEy"
      },
      "execution_count": 24,
      "outputs": []
    },
    {
      "cell_type": "code",
      "source": [
        "sample_idx = np.append(mild_idx, severe_idx)\n",
        "sample_n = sample_idx.shape[0]\n",
        "np.random.seed(12345)\n",
        "sample_perm = np.random.permutation(sample_idx)\n",
        "train_sample_idx = sample_perm[:int(np.ceil(0.8 * sample_n))]\n",
        "val_sample_idx = sample_perm[int(np.ceil(0.8 * sample_n)):int(np.ceil(0.9 * sample_n))]\n",
        "test_sample_idx = sample_perm[int(np.ceil(0.9 * sample_n)):]\n",
        "x_train_sample, y_train_sample = generate_input(sample_to_cell_list.iloc[train_sample_idx], classes[train_sample_idx], counts, 1024, 800)\n",
        "x_val_sample, y_val_sample = generate_input(sample_to_cell_list.iloc[val_sample_idx], classes[val_sample_idx], counts, 1024, 100)\n",
        "x_test_sample, y_test_sample = generate_input(sample_to_cell_list.iloc[test_sample_idx], classes[test_sample_idx], counts, 1024, 100)"
      ],
      "metadata": {
        "id": "3RExRveRmyuF"
      },
      "execution_count": 25,
      "outputs": []
    },
    {
      "cell_type": "code",
      "source": [
        "train_perm = np.random.permutation(x_train_control.shape[0]+x_train_sample.shape[0])\n",
        "X_train = np.concatenate((x_train_control, x_train_sample), axis=0).astype(np.float32)[train_perm]\n",
        "y_train = np.concatenate((y_train_control, y_train_sample), axis=0).astype(np.float32)[train_perm]\n",
        "\n",
        "val_perm = np.random.permutation(x_val_control.shape[0]+x_val_sample.shape[0])\n",
        "X_val = np.concatenate((x_val_control, x_val_sample), axis=0).astype(np.float32)[val_perm]\n",
        "y_val = np.concatenate((y_val_control, y_val_sample), axis=0).astype(np.float32)[val_perm]\n",
        "\n",
        "test_perm = np.random.permutation(x_test_control.shape[0]+x_test_sample.shape[0])\n",
        "X_test = np.concatenate((x_test_control, x_test_sample), axis=0).astype(np.float32)[test_perm]\n",
        "y_test = np.concatenate((y_test_control, y_test_sample), axis=0).astype(np.float32)[test_perm]"
      ],
      "metadata": {
        "id": "0WeMQEAnks08"
      },
      "execution_count": 26,
      "outputs": []
    },
    {
      "cell_type": "code",
      "execution_count": 27,
      "metadata": {
        "id": "ZgXt-ZRKp7eO"
      },
      "outputs": [],
      "source": [
        "class Dataset(torch.utils.data.Dataset):\n",
        "\n",
        "    def __init__(self, data, label):\n",
        "        super(Dataset, self).__init__()\n",
        "        self.data = data\n",
        "        self.label = label\n",
        "\n",
        "    def __len__(self):\n",
        "        return len(self.data)\n",
        "\n",
        "    def __getitem__(self, idx):\n",
        "        return self.data[idx], self.label[idx]"
      ]
    },
    {
      "cell_type": "code",
      "execution_count": 28,
      "metadata": {
        "id": "mvpZ1N516Yar"
      },
      "outputs": [],
      "source": [
        "train_dataset = Dataset(X_train, y_train)\n",
        "validation_dataset = Dataset(X_val, y_val)\n",
        "test_dataset = Dataset(X_test, y_test)"
      ]
    },
    {
      "cell_type": "code",
      "execution_count": 29,
      "metadata": {
        "id": "6Nt074XzSxKb"
      },
      "outputs": [],
      "source": [
        "class Pool(nn.Module):\n",
        "    def __init__(\n",
        "        self,\n",
        "        dim,\n",
        "        pool_type='max'\n",
        "    ):\n",
        "        super(Pool, self).__init__()\n",
        "        self.dim = dim\n",
        "        self.pool_type = pool_type\n",
        "\n",
        "    def forward(self, x, keepdim=True):\n",
        "        if self.pool_type == 'mean':\n",
        "            xm = x.mean(self.dim, keepdim=keepdim)\n",
        "        elif self.pool_type == 'max':\n",
        "            xm, _ = x.max(self.dim, keepdim=keepdim)\n",
        "        elif self.pool_type == 'sum':\n",
        "            xm = x.sum(self.dim, keepdim=keepdim)\n",
        "        else:\n",
        "            raise NotImplementedError(f\"pool type: {self.pool} is not supported\")\n",
        "        return xm"
      ]
    },
    {
      "cell_type": "code",
      "execution_count": 30,
      "metadata": {
        "id": "obk-uXd2X5Qi"
      },
      "outputs": [],
      "source": [
        "class PermEqui2(nn.Module):\n",
        "    def __init__(\n",
        "        self,\n",
        "        in_dim: int,\n",
        "        out_dim: int,\n",
        "        pool: str = 'max'\n",
        "    ):\n",
        "        super(PermEqui2, self).__init__()\n",
        "        self.Gamma = nn.Linear(in_dim, out_dim)\n",
        "        self.Lambda = nn.Linear(in_dim, out_dim, bias=False)\n",
        "        self.pool_module = Pool(dim=1, pool_type=pool)\n",
        "\n",
        "    def forward(self, x):\n",
        "        xm = self.pool_module(x, keepdim=True)\n",
        "        xm = self.Lambda(xm)\n",
        "        x = self.Gamma(x)\n",
        "        # residual connection\n",
        "        x = x - xm\n",
        "        return x\n"
      ]
    },
    {
      "cell_type": "code",
      "execution_count": 31,
      "metadata": {
        "id": "YNI1h21kX68Y"
      },
      "outputs": [],
      "source": [
        "class CytoSetModel(nn.Module):\n",
        "    def __init__(self, dims, nblock, pool='max', out_pool='max', dropout = 0.5):\n",
        "        super(CytoSetModel, self).__init__()\n",
        "        self.dims = dims\n",
        "        self.nblock = nblock\n",
        "        self.pool = pool\n",
        "        self.out_pool = out_pool\n",
        "        self.dropout = dropout\n",
        "\n",
        "        layers = []\n",
        "        for i in range(self.nblock):\n",
        "            layers.append(PermEqui2(self.dims[i], self.dims[i+1], self.pool))\n",
        "            layers.append(nn.ELU(inplace=True))\n",
        "        self.enc = nn.Sequential(*layers)\n",
        "\n",
        "        dnns = []\n",
        "        for i in range(len(dims)-self.nblock-1):\n",
        "            if i == len(dims)-self.nblock-2:\n",
        "                dnns.append(\n",
        "                    nn.Sequential(\n",
        "                        nn.Dropout(p=self.dropout),\n",
        "                        nn.Linear(self.dims[i+self.nblock], self.dims[i+self.nblock+1]),\n",
        "                        nn.ELU(inplace=True),\n",
        "                        nn.Dropout(p=self.dropout),\n",
        "                        nn.Linear(self.dims[i+self.nblock+1], 1)\n",
        "                        )\n",
        "                    )\n",
        "            else:\n",
        "                dnns.append(\n",
        "                    nn.Sequential(\n",
        "                        nn.Dropout(p=self.dropout),\n",
        "                        nn.Linear(self.dims[i+self.nblock], self.dims[i+self.nblock]),\n",
        "                        nn.ELU(inplace=True),\n",
        "                        nn.Dropout(p=self.dropout),\n",
        "                        nn.Linear(self.dims[i+self.nblock], self.dims[i+self.nblock+1])\n",
        "                        )\n",
        "                    )\n",
        "        self.dec = nn.Sequential(*dnns)\n",
        "        self.out_pool = Pool(dim=1, pool_type=self.out_pool)\n",
        "\n",
        "    def forward(self, x):\n",
        "        # set encoding\n",
        "        x = self.enc(x)\n",
        "        # pooling\n",
        "        x = self.out_pool(x, keepdim=False)\n",
        "        # feed forward\n",
        "        x = self.dec(x).view(-1)\n",
        "        x = torch.sigmoid(x)\n",
        "        return x"
      ]
    },
    {
      "cell_type": "code",
      "execution_count": 43,
      "metadata": {
        "colab": {
          "base_uri": "https://localhost:8080/"
        },
        "id": "wrHeNwF4CPM3",
        "outputId": "a0379f6a-70a6-4203-efcc-aec163f85c04"
      },
      "outputs": [
        {
          "output_type": "execute_result",
          "data": {
            "text/plain": [
              "CytoSetModel(\n",
              "  (enc): Sequential(\n",
              "    (0): PermEqui2(\n",
              "      (Gamma): Linear(in_features=1196, out_features=512, bias=True)\n",
              "      (Lambda): Linear(in_features=1196, out_features=512, bias=False)\n",
              "      (pool_module): Pool()\n",
              "    )\n",
              "    (1): ELU(alpha=1.0, inplace=True)\n",
              "    (2): PermEqui2(\n",
              "      (Gamma): Linear(in_features=512, out_features=128, bias=True)\n",
              "      (Lambda): Linear(in_features=512, out_features=128, bias=False)\n",
              "      (pool_module): Pool()\n",
              "    )\n",
              "    (3): ELU(alpha=1.0, inplace=True)\n",
              "    (4): PermEqui2(\n",
              "      (Gamma): Linear(in_features=128, out_features=128, bias=True)\n",
              "      (Lambda): Linear(in_features=128, out_features=128, bias=False)\n",
              "      (pool_module): Pool()\n",
              "    )\n",
              "    (5): ELU(alpha=1.0, inplace=True)\n",
              "    (6): PermEqui2(\n",
              "      (Gamma): Linear(in_features=128, out_features=128, bias=True)\n",
              "      (Lambda): Linear(in_features=128, out_features=128, bias=False)\n",
              "      (pool_module): Pool()\n",
              "    )\n",
              "    (7): ELU(alpha=1.0, inplace=True)\n",
              "  )\n",
              "  (dec): Sequential(\n",
              "    (0): Sequential(\n",
              "      (0): Dropout(p=0.5, inplace=False)\n",
              "      (1): Linear(in_features=128, out_features=128, bias=True)\n",
              "      (2): ELU(alpha=1.0, inplace=True)\n",
              "      (3): Dropout(p=0.5, inplace=False)\n",
              "      (4): Linear(in_features=128, out_features=32, bias=True)\n",
              "    )\n",
              "    (1): Sequential(\n",
              "      (0): Dropout(p=0.5, inplace=False)\n",
              "      (1): Linear(in_features=32, out_features=32, bias=True)\n",
              "      (2): ELU(alpha=1.0, inplace=True)\n",
              "      (3): Dropout(p=0.5, inplace=False)\n",
              "      (4): Linear(in_features=32, out_features=1, bias=True)\n",
              "    )\n",
              "  )\n",
              "  (out_pool): Pool()\n",
              ")"
            ]
          },
          "metadata": {},
          "execution_count": 43
        }
      ],
      "source": [
        "model = CytoSetModel([X_train.shape[2], 512, 128, 128, 128, 32, 32], 4, dropout=0.5)\n",
        "model.to(device)\n",
        "model"
      ]
    },
    {
      "cell_type": "code",
      "execution_count": 33,
      "metadata": {
        "id": "UiNJZ7oao2Xq"
      },
      "outputs": [],
      "source": [
        "def run_one_epoch(train_flag, dataloader, model, optimizer, device=\"cuda\"):\n",
        "\n",
        "    torch.set_grad_enabled(train_flag)\n",
        "    model.train() if train_flag else model.eval() \n",
        "\n",
        "    losses = []\n",
        "    accuracies = []\n",
        "\n",
        "    for (x, y) in dataloader:\n",
        "        (x, y) = ( x.to(device), y.to(device) ) \n",
        "        output = model(x)\n",
        "        output = output.squeeze()\n",
        "        loss = F.binary_cross_entropy(output, y, reduction='mean')\n",
        "        if train_flag: \n",
        "            loss.backward()\n",
        "            optimizer.step()\n",
        "            optimizer.zero_grad()\n",
        "\n",
        "        losses.append(loss.detach().cpu().numpy())\n",
        "        accuracy = torch.mean( ( (output > .5) == (y > .5) ).float() )\n",
        "        accuracies.append(accuracy.detach().cpu().numpy())  \n",
        "    \n",
        "    return( np.mean(losses), np.mean(accuracies) )"
      ]
    },
    {
      "cell_type": "code",
      "execution_count": 34,
      "metadata": {
        "id": "9FGJmYunoR-L"
      },
      "outputs": [],
      "source": [
        "def train_model(model, train_dataset, validation_dataset, optimizer, epochs=100, patience=10, verbose=True):\n",
        "    model.to(device)\n",
        "\n",
        "    train_dataloader = torch.utils.data.DataLoader(train_dataset, batch_size=20, num_workers = 0)\n",
        "    validation_dataloader = torch.utils.data.DataLoader(validation_dataset, batch_size=20)\n",
        "\n",
        "    train_accs = []\n",
        "    val_accs = []\n",
        "    patience_counter = patience\n",
        "    best_val_loss = np.inf\n",
        "    check_point_filename = 'model_checkpoint.pt' # to save the best model fit to date\n",
        "    for epoch in range(epochs):\n",
        "        start_time = timeit.default_timer()\n",
        "        train_loss, train_acc = run_one_epoch(True, train_dataloader, model, optimizer, device)\n",
        "        val_loss, val_acc = run_one_epoch(False, validation_dataloader, model, optimizer, device)\n",
        "        train_accs.append(train_acc)\n",
        "        val_accs.append(val_acc)\n",
        "        if val_loss < best_val_loss: \n",
        "            torch.save(model.state_dict(), check_point_filename)\n",
        "            best_val_loss = val_loss\n",
        "            patience_counter = patience\n",
        "        else: \n",
        "            patience_counter -= 1\n",
        "            if patience_counter <= 0: \n",
        "                model.load_state_dict(torch.load(check_point_filename)) # recover the best model so far\n",
        "                break\n",
        "        elapsed = float(timeit.default_timer() - start_time)\n",
        "        if verbose:\n",
        "          print(\"Epoch %i took %.2fs. Train loss: %.4f acc: %.4f. Val loss: %.4f acc: %.4f. Patience left: %i\" % \n",
        "              (epoch+1, elapsed, train_loss, train_acc, val_loss, val_acc, patience_counter ))\n",
        "\n",
        "    return model, train_accs, val_accs"
      ]
    },
    {
      "cell_type": "code",
      "execution_count": 44,
      "metadata": {
        "colab": {
          "base_uri": "https://localhost:8080/",
          "height": 699
        },
        "id": "MR2JWbI4NsJ7",
        "outputId": "142237ba-f03c-4510-ed6f-af08459b5958"
      },
      "outputs": [
        {
          "output_type": "stream",
          "name": "stdout",
          "text": [
            "Epoch 1 took 3.62s. Train loss: 0.9688 acc: 0.5175. Val loss: 0.6618 acc: 0.5800. Patience left: 20\n",
            "Epoch 2 took 3.65s. Train loss: 0.7353 acc: 0.5881. Val loss: 0.6085 acc: 0.6850. Patience left: 20\n",
            "Epoch 3 took 3.58s. Train loss: 0.6995 acc: 0.6262. Val loss: 0.5658 acc: 0.7450. Patience left: 20\n",
            "Epoch 4 took 3.57s. Train loss: 0.5955 acc: 0.6837. Val loss: 0.5418 acc: 0.7150. Patience left: 20\n",
            "Epoch 5 took 3.58s. Train loss: 0.5260 acc: 0.7437. Val loss: 0.4676 acc: 0.7750. Patience left: 20\n",
            "Epoch 6 took 3.61s. Train loss: 0.4374 acc: 0.8025. Val loss: 0.4480 acc: 0.7650. Patience left: 20\n",
            "Epoch 7 took 3.61s. Train loss: 0.3975 acc: 0.8288. Val loss: 0.5144 acc: 0.7350. Patience left: 19\n",
            "Epoch 8 took 3.61s. Train loss: 0.3291 acc: 0.8844. Val loss: 0.6395 acc: 0.7500. Patience left: 18\n",
            "Epoch 9 took 3.58s. Train loss: 0.2601 acc: 0.9069. Val loss: 0.6058 acc: 0.7650. Patience left: 17\n",
            "Epoch 10 took 3.56s. Train loss: 0.2172 acc: 0.9306. Val loss: 0.6053 acc: 0.8000. Patience left: 16\n",
            "Epoch 11 took 3.61s. Train loss: 0.2050 acc: 0.9431. Val loss: 0.6175 acc: 0.8150. Patience left: 15\n",
            "Epoch 12 took 3.56s. Train loss: 0.1688 acc: 0.9431. Val loss: 1.1709 acc: 0.7700. Patience left: 14\n",
            "Epoch 13 took 3.58s. Train loss: 0.1429 acc: 0.9600. Val loss: 1.1884 acc: 0.7700. Patience left: 13\n",
            "Epoch 14 took 3.56s. Train loss: 0.1244 acc: 0.9619. Val loss: 2.1639 acc: 0.7750. Patience left: 12\n",
            "Epoch 15 took 3.58s. Train loss: 0.0785 acc: 0.9769. Val loss: 1.4799 acc: 0.8100. Patience left: 11\n",
            "Epoch 16 took 3.57s. Train loss: 0.1800 acc: 0.9469. Val loss: 1.9182 acc: 0.7600. Patience left: 10\n",
            "Epoch 17 took 3.58s. Train loss: 0.0826 acc: 0.9856. Val loss: 0.7385 acc: 0.8150. Patience left: 9\n",
            "Epoch 18 took 3.59s. Train loss: 0.0813 acc: 0.9769. Val loss: 1.1536 acc: 0.8050. Patience left: 8\n",
            "Epoch 19 took 3.53s. Train loss: 0.0806 acc: 0.9825. Val loss: 0.5943 acc: 0.8700. Patience left: 7\n",
            "Epoch 20 took 3.56s. Train loss: 0.0731 acc: 0.9837. Val loss: 1.9827 acc: 0.7950. Patience left: 6\n",
            "Epoch 21 took 3.61s. Train loss: 0.1257 acc: 0.9712. Val loss: 2.2393 acc: 0.7350. Patience left: 5\n",
            "Epoch 22 took 3.57s. Train loss: 0.0630 acc: 0.9863. Val loss: 1.2714 acc: 0.7800. Patience left: 4\n",
            "Epoch 23 took 3.60s. Train loss: 0.0843 acc: 0.9800. Val loss: 2.2641 acc: 0.7450. Patience left: 3\n",
            "Epoch 24 took 3.63s. Train loss: 0.0803 acc: 0.9781. Val loss: 3.7158 acc: 0.7550. Patience left: 2\n",
            "Epoch 25 took 3.62s. Train loss: 0.0521 acc: 0.9875. Val loss: 3.2622 acc: 0.7400. Patience left: 1\n"
          ]
        },
        {
          "output_type": "display_data",
          "data": {
            "text/plain": [
              "<Figure size 432x288 with 1 Axes>"
            ],
            "image/png": "[encoded data removed]"
          },
          "metadata": {
            "needs_background": "light"
          }
        }
      ],
      "source": [
        "optimizer = torch.optim.Adam(model.parameters(), lr = 1e-4, betas=(0.9, 0.999), weight_decay=1e-2)\n",
        "model, train_accs, val_accs = train_model(model, train_dataset, validation_dataset, optimizer, patience=20)\n",
        "plt.plot(train_accs, label=\"train\")\n",
        "plt.plot(val_accs, label=\"validation\")\n",
        "plt.legend() \n",
        "plt.grid(which=\"both\")"
      ]
    },
    {
      "cell_type": "code",
      "execution_count": 36,
      "metadata": {
        "id": "6j9KdtnsH-sU"
      },
      "outputs": [],
      "source": [
        "test_dataloader = torch.utils.data.DataLoader(test_dataset, batch_size=20)"
      ]
    },
    {
      "cell_type": "code",
      "execution_count": 45,
      "metadata": {
        "colab": {
          "base_uri": "https://localhost:8080/"
        },
        "id": "FvPXksFtIAwq",
        "outputId": "0eb8d485-ecc3-4c97-89d9-f6b200895e47"
      },
      "outputs": [
        {
          "output_type": "execute_result",
          "data": {
            "text/plain": [
              "0.74"
            ]
          },
          "metadata": {},
          "execution_count": 45
        }
      ],
      "source": [
        "test_loss, test_acc = run_one_epoch(False, test_dataloader, model, optimizer, device)\n",
        "test_acc"
      ]
    },
    {
      "cell_type": "code",
      "source": [
        "outputs = []\n",
        "for x, _ in test_dataloader:\n",
        "    x = x.to(device)\n",
        "    output = model(x).squeeze()\n",
        "    output_np = output.detach().cpu().numpy()\n",
        "    outputs.append(output_np)\n",
        "output_np = np.concatenate(outputs)"
      ],
      "metadata": {
        "id": "h1Nk_p7FsK-J"
      },
      "execution_count": 49,
      "outputs": []
    },
    {
      "cell_type": "code",
      "source": [
        "auroc = metrics.roc_auc_score(y_test, output_np)\n",
        "auroc"
      ],
      "metadata": {
        "colab": {
          "base_uri": "https://localhost:8080/"
        },
        "id": "CpUba3MhsPY_",
        "outputId": "6ef73fbf-36df-4b8e-8fcd-fcf08dbf7b76"
      },
      "execution_count": 50,
      "outputs": [
        {
          "output_type": "execute_result",
          "data": {
            "text/plain": [
              "0.8203999999999999"
            ]
          },
          "metadata": {},
          "execution_count": 50
        }
      ]
    },
    {
      "cell_type": "code",
      "source": [
        "precision, recall, _ = metrics.precision_recall_curve(y_test, output_np)\n",
        "aupr = metrics.auc(recall, precision)\n",
        "aupr"
      ],
      "metadata": {
        "colab": {
          "base_uri": "https://localhost:8080/"
        },
        "id": "6j__k6Xst897",
        "outputId": "853a5ac4-1a66-443a-874b-a2cc4c8934a5"
      },
      "execution_count": 51,
      "outputs": [
        {
          "output_type": "execute_result",
          "data": {
            "text/plain": [
              "0.8567246032541453"
            ]
          },
          "metadata": {},
          "execution_count": 51
        }
      ]
    }
  ],
  "metadata": {
    "accelerator": "GPU",
    "colab": {
      "machine_shape": "hm",
      "provenance": []
    },
    "gpuClass": "premium",
    "kernelspec": {
      "display_name": "Python 3",
      "name": "python3"
    },
    "language_info": {
      "name": "python"
    }
  },
  "nbformat": 4,
  "nbformat_minor": 0
}